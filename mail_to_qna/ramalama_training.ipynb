{
 "cells": [
  {
   "cell_type": "code",
   "execution_count": 1,
   "id": "16429402-5b8a-42eb-826c-44c9c7c716f6",
   "metadata": {
    "tags": []
   },
   "outputs": [
    {
     "name": "stdout",
     "output_type": "stream",
     "text": [
      "Requirement already satisfied: ramalama in /opt/app-root/lib/python3.9/site-packages (0.7.4)\n",
      "Requirement already satisfied: argcomplete in /opt/app-root/lib/python3.9/site-packages (from ramalama) (3.6.2)\n",
      "\n",
      "\u001b[1m[\u001b[0m\u001b[34;49mnotice\u001b[0m\u001b[1;39;49m]\u001b[0m\u001b[39;49m A new release of pip available: \u001b[0m\u001b[31;49m22.2.2\u001b[0m\u001b[39;49m -> \u001b[0m\u001b[32;49m25.0.1\u001b[0m\n",
      "\u001b[1m[\u001b[0m\u001b[34;49mnotice\u001b[0m\u001b[1;39;49m]\u001b[0m\u001b[39;49m To update, run: \u001b[0m\u001b[32;49mpip install --upgrade pip\u001b[0m\n"
     ]
    }
   ],
   "source": [
    "!pip install ramalama"
   ]
  },
  {
   "cell_type": "code",
   "execution_count": 2,
   "id": "5d6386da-466e-4709-9775-6b7fd387b51b",
   "metadata": {
    "tags": []
   },
   "outputs": [
    {
     "name": "stdout",
     "output_type": "stream",
     "text": [
      "Cloning into 'misc'...\n",
      "remote: Enumerating objects: 2105, done.\u001b[K\n",
      "remote: Counting objects: 100% (2105/2105), done.\u001b[K\n",
      "remote: Compressing objects: 100% (1891/1891), done.\u001b[K\n",
      "remote: Total 2105 (delta 193), reused 2101 (delta 192), pack-reused 0 (from 0)\u001b[K\n",
      "Receiving objects: 100% (2105/2105), 12.68 MiB | 44.33 MiB/s, done.\n",
      "Resolving deltas: 100% (193/193), done.\n"
     ]
    }
   ],
   "source": [
    "!git clone https://github.com/lavocatt/misc.git"
   ]
  },
  {
   "cell_type": "code",
   "execution_count": 3,
   "id": "8797766c-c750-414d-84e4-db89b6150182",
   "metadata": {
    "tags": []
   },
   "outputs": [
    {
     "name": "stdout",
     "output_type": "stream",
     "text": [
      "Error: rag command requires a container. Can not be run with --nocontainer option.\n"
     ]
    }
   ],
   "source": [
    "!ramalama --debug rag /misc/mail_to_qna/threads/pdf quay.io/tlavocat/rags"
   ]
  },
  {
   "cell_type": "code",
   "execution_count": null,
   "id": "5091f0ff-d06a-46c9-9915-926e4c1e36df",
   "metadata": {},
   "outputs": [],
   "source": []
  }
 ],
 "metadata": {
  "kernelspec": {
   "display_name": "Python 3.9",
   "language": "python",
   "name": "python3"
  },
  "language_info": {
   "codemirror_mode": {
    "name": "ipython",
    "version": 3
   },
   "file_extension": ".py",
   "mimetype": "text/x-python",
   "name": "python",
   "nbconvert_exporter": "python",
   "pygments_lexer": "ipython3",
   "version": "3.9.18"
  }
 },
 "nbformat": 4,
 "nbformat_minor": 5
}
